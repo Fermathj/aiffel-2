{
 "cells": [
  {
   "cell_type": "code",
   "id": "initial_id",
   "metadata": {
    "collapsed": true,
    "ExecuteTime": {
     "end_time": "2024-05-29T07:39:25.999989Z",
     "start_time": "2024-05-29T07:39:25.997362Z"
    }
   },
   "source": [
    "import warnings\n",
    "warnings.filterwarnings(\"ignore\")\n",
    "\n",
    "import os\n",
    "from os.path import join\n",
    "\n",
    "import pandas as pd\n",
    "import numpy as np\n",
    "\n",
    "import missingno as msno\n",
    "\n",
    "from sklearn.ensemble import GradientBoostingRegressor\n",
    "from sklearn.model_selection import KFold, cross_val_score\n",
    "import xgboost as xgb\n",
    "import lightgbm as lgb\n",
    "\n",
    "import matplotlib.pyplot as plt\n",
    "import seaborn as sns\n",
    "\n",
    "print('얍💢')"
   ],
   "outputs": [
    {
     "name": "stdout",
     "output_type": "stream",
     "text": [
      "얍💢\n"
     ]
    }
   ],
   "execution_count": 38
  },
  {
   "metadata": {},
   "cell_type": "markdown",
   "source": [
    "## 프로젝트 루브릭\n",
    "\n",
    "데이터 전처리, 모델학습, 예측의 전체 과정을 거쳐 캐글 submission까지 전과정이 성공적으로 진행되었는가?\n",
    "\n",
    "제출된 노트북이 캐글 커널로 사용될 수 있을 만큼 전처리, 학습, 최적화 진행 과정이 체계적으로 기술되었는가?\n",
    "\n",
    "다양한 피처 엔지니어링과 하이퍼 파라미터 튜닝 등의 최적화 기법을 통해 캐글 리더보드의 Private score 기준 110000 이하의 점수를 얻었는가?"
   ],
   "id": "eeeeb5049108c739"
  },
  {
   "metadata": {},
   "cell_type": "markdown",
   "source": "### 데이터 전처리, 모델학습, 예측의 전체 과정을 거쳐 캐글 submission까지 전과정이 성공적으로 진행되었는가?",
   "id": "dddf0298bca99ec3"
  },
  {
   "metadata": {},
   "cell_type": "markdown",
   "source": "",
   "id": "67809180913f4d0f"
  },
  {
   "metadata": {},
   "cell_type": "markdown",
   "source": "#### 데이터 이해하기",
   "id": "5bb0e223dbad1bec"
  },
  {
   "metadata": {
    "ExecuteTime": {
     "end_time": "2024-05-29T07:39:26.045369Z",
     "start_time": "2024-05-29T07:39:26.017649Z"
    }
   },
   "cell_type": "code",
   "source": [
    "import pandas as pd\n",
    "\n",
    "df_train = pd.read_csv('data/train.csv')\n",
    "df_test  = pd.read_csv('data/test.csv')\n",
    "\n",
    "print(len(df_train))\n",
    "print(len(df_test))\n",
    "\n",
    "print(f'train data dim : {df_train.shape}')\n",
    "print(f'sub data dim : {df_test.shape}')"
   ],
   "id": "7f98f5c7dd0347a8",
   "outputs": [
    {
     "name": "stdout",
     "output_type": "stream",
     "text": [
      "15035\n",
      "6468\n",
      "train data dim : (15035, 21)\n",
      "sub data dim : (6468, 20)\n"
     ]
    }
   ],
   "execution_count": 39
  },
  {
   "metadata": {
    "ExecuteTime": {
     "end_time": "2024-05-29T07:39:26.055441Z",
     "start_time": "2024-05-29T07:39:26.052211Z"
    }
   },
   "cell_type": "code",
   "source": "set(df_train.columns) - set(df_test.columns)",
   "id": "d7b9f61a25ea621",
   "outputs": [
    {
     "data": {
      "text/plain": [
       "{'price'}"
      ]
     },
     "execution_count": 40,
     "metadata": {},
     "output_type": "execute_result"
    }
   ],
   "execution_count": 40
  },
  {
   "metadata": {
    "ExecuteTime": {
     "end_time": "2024-05-29T07:39:26.058960Z",
     "start_time": "2024-05-29T07:39:26.056424Z"
    }
   },
   "cell_type": "code",
   "source": [
    "y_train = df_train['price']\n",
    "print(y_train.head())"
   ],
   "id": "da27007684f479d5",
   "outputs": [
    {
     "name": "stdout",
     "output_type": "stream",
     "text": [
      "0    221900.0\n",
      "1    180000.0\n",
      "2    510000.0\n",
      "3    257500.0\n",
      "4    291850.0\n",
      "Name: price, dtype: float64\n"
     ]
    }
   ],
   "execution_count": 41
  },
  {
   "metadata": {
    "ExecuteTime": {
     "end_time": "2024-05-29T07:39:26.066258Z",
     "start_time": "2024-05-29T07:39:26.061585Z"
    }
   },
   "cell_type": "code",
   "source": [
    "X_train = df_train.copy().drop(columns='price')\n",
    "print(X_train.head())"
   ],
   "id": "3041af295a41341b",
   "outputs": [
    {
     "name": "stdout",
     "output_type": "stream",
     "text": [
      "   id             date  bedrooms  bathrooms  sqft_living  sqft_lot  floors  \\\n",
      "0   0  20141013T000000         3       1.00         1180      5650     1.0   \n",
      "1   1  20150225T000000         2       1.00          770     10000     1.0   \n",
      "2   2  20150218T000000         3       2.00         1680      8080     1.0   \n",
      "3   3  20140627T000000         3       2.25         1715      6819     2.0   \n",
      "4   4  20150115T000000         3       1.50         1060      9711     1.0   \n",
      "\n",
      "   waterfront  view  condition  grade  sqft_above  sqft_basement  yr_built  \\\n",
      "0           0     0          3      7        1180              0      1955   \n",
      "1           0     0          3      6         770              0      1933   \n",
      "2           0     0          3      8        1680              0      1987   \n",
      "3           0     0          3      7        1715              0      1995   \n",
      "4           0     0          3      7        1060              0      1963   \n",
      "\n",
      "   yr_renovated  zipcode      lat     long  sqft_living15  sqft_lot15  \n",
      "0             0    98178  47.5112 -122.257           1340        5650  \n",
      "1             0    98028  47.7379 -122.233           2720        8062  \n",
      "2             0    98074  47.6168 -122.045           1800        7503  \n",
      "3             0    98003  47.3097 -122.327           2238        6819  \n",
      "4             0    98198  47.4095 -122.315           1650        9711  \n"
     ]
    }
   ],
   "execution_count": 42
  },
  {
   "metadata": {
    "ExecuteTime": {
     "end_time": "2024-05-29T07:39:26.075826Z",
     "start_time": "2024-05-29T07:39:26.071881Z"
    }
   },
   "cell_type": "code",
   "source": [
    "X_test = df_test.copy()\n",
    "\n",
    "data = pd.concat((X_train, X_test), axis=0)\n"
   ],
   "id": "c961104a8adce1a2",
   "outputs": [],
   "execution_count": 43
  },
  {
   "metadata": {
    "ExecuteTime": {
     "end_time": "2024-05-29T07:39:26.112970Z",
     "start_time": "2024-05-29T07:39:26.106801Z"
    }
   },
   "cell_type": "code",
   "source": [
    "# 결측치 확인\n",
    "\n",
    "for c in data.columns:\n",
    "    print('{} : {}'.format(c, len(data.loc[pd.isnull(data[c]), c].values)))"
   ],
   "id": "a6371a853d252964",
   "outputs": [
    {
     "name": "stdout",
     "output_type": "stream",
     "text": [
      "id : 0\n",
      "date : 0\n",
      "bedrooms : 0\n",
      "bathrooms : 0\n",
      "sqft_living : 0\n",
      "sqft_lot : 0\n",
      "floors : 0\n",
      "waterfront : 0\n",
      "view : 0\n",
      "condition : 0\n",
      "grade : 0\n",
      "sqft_above : 0\n",
      "sqft_basement : 0\n",
      "yr_built : 0\n",
      "yr_renovated : 0\n",
      "zipcode : 0\n",
      "lat : 0\n",
      "long : 0\n",
      "sqft_living15 : 0\n",
      "sqft_lot15 : 0\n"
     ]
    }
   ],
   "execution_count": 44
  },
  {
   "metadata": {
    "ExecuteTime": {
     "end_time": "2024-05-29T07:39:26.130301Z",
     "start_time": "2024-05-29T07:39:26.120978Z"
    }
   },
   "cell_type": "code",
   "source": [
    "# 데이터 정리\n",
    "\n",
    "# id와 인덱스가 동일\n",
    "del X_train['id']\n",
    "del X_test['id']\n",
    "\n",
    "X_train['date'] = X_train['date'].apply(lambda x: str(x[:6]))\n",
    "X_test['date'] = X_test['date'].apply(lambda x: str(x[:6]))\n",
    "\n",
    "X_train.head()"
   ],
   "id": "c1956ea814b1221e",
   "outputs": [
    {
     "data": {
      "text/plain": [
       "     date  bedrooms  bathrooms  sqft_living  sqft_lot  floors  waterfront  \\\n",
       "0  201410         3       1.00         1180      5650     1.0           0   \n",
       "1  201502         2       1.00          770     10000     1.0           0   \n",
       "2  201502         3       2.00         1680      8080     1.0           0   \n",
       "3  201406         3       2.25         1715      6819     2.0           0   \n",
       "4  201501         3       1.50         1060      9711     1.0           0   \n",
       "\n",
       "   view  condition  grade  sqft_above  sqft_basement  yr_built  yr_renovated  \\\n",
       "0     0          3      7        1180              0      1955             0   \n",
       "1     0          3      6         770              0      1933             0   \n",
       "2     0          3      8        1680              0      1987             0   \n",
       "3     0          3      7        1715              0      1995             0   \n",
       "4     0          3      7        1060              0      1963             0   \n",
       "\n",
       "   zipcode      lat     long  sqft_living15  sqft_lot15  \n",
       "0    98178  47.5112 -122.257           1340        5650  \n",
       "1    98028  47.7379 -122.233           2720        8062  \n",
       "2    98074  47.6168 -122.045           1800        7503  \n",
       "3    98003  47.3097 -122.327           2238        6819  \n",
       "4    98198  47.4095 -122.315           1650        9711  "
      ],
      "text/html": [
       "<div>\n",
       "<style scoped>\n",
       "    .dataframe tbody tr th:only-of-type {\n",
       "        vertical-align: middle;\n",
       "    }\n",
       "\n",
       "    .dataframe tbody tr th {\n",
       "        vertical-align: top;\n",
       "    }\n",
       "\n",
       "    .dataframe thead th {\n",
       "        text-align: right;\n",
       "    }\n",
       "</style>\n",
       "<table border=\"1\" class=\"dataframe\">\n",
       "  <thead>\n",
       "    <tr style=\"text-align: right;\">\n",
       "      <th></th>\n",
       "      <th>date</th>\n",
       "      <th>bedrooms</th>\n",
       "      <th>bathrooms</th>\n",
       "      <th>sqft_living</th>\n",
       "      <th>sqft_lot</th>\n",
       "      <th>floors</th>\n",
       "      <th>waterfront</th>\n",
       "      <th>view</th>\n",
       "      <th>condition</th>\n",
       "      <th>grade</th>\n",
       "      <th>sqft_above</th>\n",
       "      <th>sqft_basement</th>\n",
       "      <th>yr_built</th>\n",
       "      <th>yr_renovated</th>\n",
       "      <th>zipcode</th>\n",
       "      <th>lat</th>\n",
       "      <th>long</th>\n",
       "      <th>sqft_living15</th>\n",
       "      <th>sqft_lot15</th>\n",
       "    </tr>\n",
       "  </thead>\n",
       "  <tbody>\n",
       "    <tr>\n",
       "      <th>0</th>\n",
       "      <td>201410</td>\n",
       "      <td>3</td>\n",
       "      <td>1.00</td>\n",
       "      <td>1180</td>\n",
       "      <td>5650</td>\n",
       "      <td>1.0</td>\n",
       "      <td>0</td>\n",
       "      <td>0</td>\n",
       "      <td>3</td>\n",
       "      <td>7</td>\n",
       "      <td>1180</td>\n",
       "      <td>0</td>\n",
       "      <td>1955</td>\n",
       "      <td>0</td>\n",
       "      <td>98178</td>\n",
       "      <td>47.5112</td>\n",
       "      <td>-122.257</td>\n",
       "      <td>1340</td>\n",
       "      <td>5650</td>\n",
       "    </tr>\n",
       "    <tr>\n",
       "      <th>1</th>\n",
       "      <td>201502</td>\n",
       "      <td>2</td>\n",
       "      <td>1.00</td>\n",
       "      <td>770</td>\n",
       "      <td>10000</td>\n",
       "      <td>1.0</td>\n",
       "      <td>0</td>\n",
       "      <td>0</td>\n",
       "      <td>3</td>\n",
       "      <td>6</td>\n",
       "      <td>770</td>\n",
       "      <td>0</td>\n",
       "      <td>1933</td>\n",
       "      <td>0</td>\n",
       "      <td>98028</td>\n",
       "      <td>47.7379</td>\n",
       "      <td>-122.233</td>\n",
       "      <td>2720</td>\n",
       "      <td>8062</td>\n",
       "    </tr>\n",
       "    <tr>\n",
       "      <th>2</th>\n",
       "      <td>201502</td>\n",
       "      <td>3</td>\n",
       "      <td>2.00</td>\n",
       "      <td>1680</td>\n",
       "      <td>8080</td>\n",
       "      <td>1.0</td>\n",
       "      <td>0</td>\n",
       "      <td>0</td>\n",
       "      <td>3</td>\n",
       "      <td>8</td>\n",
       "      <td>1680</td>\n",
       "      <td>0</td>\n",
       "      <td>1987</td>\n",
       "      <td>0</td>\n",
       "      <td>98074</td>\n",
       "      <td>47.6168</td>\n",
       "      <td>-122.045</td>\n",
       "      <td>1800</td>\n",
       "      <td>7503</td>\n",
       "    </tr>\n",
       "    <tr>\n",
       "      <th>3</th>\n",
       "      <td>201406</td>\n",
       "      <td>3</td>\n",
       "      <td>2.25</td>\n",
       "      <td>1715</td>\n",
       "      <td>6819</td>\n",
       "      <td>2.0</td>\n",
       "      <td>0</td>\n",
       "      <td>0</td>\n",
       "      <td>3</td>\n",
       "      <td>7</td>\n",
       "      <td>1715</td>\n",
       "      <td>0</td>\n",
       "      <td>1995</td>\n",
       "      <td>0</td>\n",
       "      <td>98003</td>\n",
       "      <td>47.3097</td>\n",
       "      <td>-122.327</td>\n",
       "      <td>2238</td>\n",
       "      <td>6819</td>\n",
       "    </tr>\n",
       "    <tr>\n",
       "      <th>4</th>\n",
       "      <td>201501</td>\n",
       "      <td>3</td>\n",
       "      <td>1.50</td>\n",
       "      <td>1060</td>\n",
       "      <td>9711</td>\n",
       "      <td>1.0</td>\n",
       "      <td>0</td>\n",
       "      <td>0</td>\n",
       "      <td>3</td>\n",
       "      <td>7</td>\n",
       "      <td>1060</td>\n",
       "      <td>0</td>\n",
       "      <td>1963</td>\n",
       "      <td>0</td>\n",
       "      <td>98198</td>\n",
       "      <td>47.4095</td>\n",
       "      <td>-122.315</td>\n",
       "      <td>1650</td>\n",
       "      <td>9711</td>\n",
       "    </tr>\n",
       "  </tbody>\n",
       "</table>\n",
       "</div>"
      ]
     },
     "execution_count": 45,
     "metadata": {},
     "output_type": "execute_result"
    }
   ],
   "execution_count": 45
  },
  {
   "metadata": {},
   "cell_type": "markdown",
   "source": "모델 설계",
   "id": "bc6c735947c35dc"
  },
  {
   "metadata": {
    "ExecuteTime": {
     "end_time": "2024-05-29T07:39:26.153208Z",
     "start_time": "2024-05-29T07:39:26.149920Z"
    }
   },
   "cell_type": "code",
   "source": [
    "gboost = GradientBoostingRegressor(random_state=2019)\n",
    "xgboost = xgb.XGBRegressor(random_state=2019)\n",
    "lightgbm = lgb.LGBMRegressor(random_state=2019)\n",
    "\n",
    "models = [{'model':gboost, 'name':'GradientBoosting'}, {'model':xgboost, 'name':'XGBoost'},\n",
    "          {'model':lightgbm, 'name':'LightGBM'}]"
   ],
   "id": "451d171653ac57b8",
   "outputs": [],
   "execution_count": 46
  },
  {
   "metadata": {
    "ExecuteTime": {
     "end_time": "2024-05-29T07:39:26.167364Z",
     "start_time": "2024-05-29T07:39:26.165229Z"
    }
   },
   "cell_type": "code",
   "source": [
    "def AveragingBlending(models, x, y, sub_x):\n",
    "    for m in models : \n",
    "        m['model'].fit(x.values, y)\n",
    "    \n",
    "    predictions = np.column_stack([\n",
    "        m['model'].predict(sub_x.values) for m in models\n",
    "    ])\n",
    "    return np.mean(predictions, axis=1)"
   ],
   "id": "ecc7b559d59d7e02",
   "outputs": [],
   "execution_count": 47
  },
  {
   "metadata": {
    "ExecuteTime": {
     "end_time": "2024-05-29T07:39:29.395329Z",
     "start_time": "2024-05-29T07:39:26.198389Z"
    }
   },
   "cell_type": "code",
   "source": [
    "y_pred = AveragingBlending(models, X_train, y_train, X_test)\n",
    "print(len(y_pred))\n",
    "y_pred"
   ],
   "id": "971b89b6fef6de4d",
   "outputs": [
    {
     "name": "stdout",
     "output_type": "stream",
     "text": [
      "[LightGBM] [Info] Auto-choosing row-wise multi-threading, the overhead of testing was 0.000469 seconds.\n",
      "You can set `force_row_wise=true` to remove the overhead.\n",
      "And if memory is not enough, you can set `force_col_wise=true`.\n",
      "[LightGBM] [Info] Total Bins 2338\n",
      "[LightGBM] [Info] Number of data points in the train set: 15035, number of used features: 19\n",
      "[LightGBM] [Info] Start training from score 540682.653143\n",
      "6468\n"
     ]
    },
    {
     "data": {
      "text/plain": [
       "array([ 548944.53804912,  443655.17105951, 1345797.07909443, ...,\n",
       "        457185.23303678,  339532.04977609,  422564.70651683])"
      ]
     },
     "execution_count": 48,
     "metadata": {},
     "output_type": "execute_result"
    }
   ],
   "execution_count": 48
  },
  {
   "metadata": {
    "ExecuteTime": {
     "end_time": "2024-05-29T07:39:29.402328Z",
     "start_time": "2024-05-29T07:39:29.396744Z"
    }
   },
   "cell_type": "code",
   "source": [
    "result = pd.DataFrame({\n",
    "    'id' : df_test['id'], \n",
    "    'price' : y_pred\n",
    "})\n",
    "print(len(result))\n",
    "result.head()"
   ],
   "id": "35f33f569666d4e5",
   "outputs": [
    {
     "name": "stdout",
     "output_type": "stream",
     "text": [
      "6468\n"
     ]
    },
    {
     "data": {
      "text/plain": [
       "      id         price\n",
       "0  15035  5.489445e+05\n",
       "1  15036  4.436552e+05\n",
       "2  15037  1.345797e+06\n",
       "3  15038  3.206119e+05\n",
       "4  15039  3.180479e+05"
      ],
      "text/html": [
       "<div>\n",
       "<style scoped>\n",
       "    .dataframe tbody tr th:only-of-type {\n",
       "        vertical-align: middle;\n",
       "    }\n",
       "\n",
       "    .dataframe tbody tr th {\n",
       "        vertical-align: top;\n",
       "    }\n",
       "\n",
       "    .dataframe thead th {\n",
       "        text-align: right;\n",
       "    }\n",
       "</style>\n",
       "<table border=\"1\" class=\"dataframe\">\n",
       "  <thead>\n",
       "    <tr style=\"text-align: right;\">\n",
       "      <th></th>\n",
       "      <th>id</th>\n",
       "      <th>price</th>\n",
       "    </tr>\n",
       "  </thead>\n",
       "  <tbody>\n",
       "    <tr>\n",
       "      <th>0</th>\n",
       "      <td>15035</td>\n",
       "      <td>5.489445e+05</td>\n",
       "    </tr>\n",
       "    <tr>\n",
       "      <th>1</th>\n",
       "      <td>15036</td>\n",
       "      <td>4.436552e+05</td>\n",
       "    </tr>\n",
       "    <tr>\n",
       "      <th>2</th>\n",
       "      <td>15037</td>\n",
       "      <td>1.345797e+06</td>\n",
       "    </tr>\n",
       "    <tr>\n",
       "      <th>3</th>\n",
       "      <td>15038</td>\n",
       "      <td>3.206119e+05</td>\n",
       "    </tr>\n",
       "    <tr>\n",
       "      <th>4</th>\n",
       "      <td>15039</td>\n",
       "      <td>3.180479e+05</td>\n",
       "    </tr>\n",
       "  </tbody>\n",
       "</table>\n",
       "</div>"
      ]
     },
     "execution_count": 49,
     "metadata": {},
     "output_type": "execute_result"
    }
   ],
   "execution_count": 49
  },
  {
   "metadata": {
    "ExecuteTime": {
     "end_time": "2024-05-29T07:39:34.591171Z",
     "start_time": "2024-05-29T07:39:34.579896Z"
    }
   },
   "cell_type": "code",
   "source": [
    "my_submission_path = 'data'\n",
    "result.to_csv(my_submission_path + '/submission.csv', index=False)\n",
    "print(my_submission_path)"
   ],
   "id": "546a8acce9f902e7",
   "outputs": [
    {
     "name": "stdout",
     "output_type": "stream",
     "text": [
      "data\n"
     ]
    }
   ],
   "execution_count": 51
  },
  {
   "metadata": {
    "ExecuteTime": {
     "end_time": "2024-05-29T08:01:23.433084Z",
     "start_time": "2024-05-29T08:01:23.221367Z"
    }
   },
   "cell_type": "code",
   "source": [
    "y_train = np.log1p(y_train)\n",
    "sns.kdeplot(y_train)"
   ],
   "id": "6c3e951894b8f806",
   "outputs": [
    {
     "data": {
      "text/plain": [
       "<Axes: xlabel='price', ylabel='Density'>"
      ]
     },
     "execution_count": 55,
     "metadata": {},
     "output_type": "execute_result"
    },
    {
     "data": {
      "text/plain": [
       "<Figure size 640x480 with 1 Axes>"
      ],
      "image/png": "[encoded data removed]"
     },
     "metadata": {},
     "output_type": "display_data"
    }
   ],
   "execution_count": 55
  },
  {
   "metadata": {
    "ExecuteTime": {
     "end_time": "2024-05-29T08:03:12.555159Z",
     "start_time": "2024-05-29T08:03:12.552761Z"
    }
   },
   "cell_type": "code",
   "source": [
    "from sklearn.model_selection import train_test_split\n",
    "from sklearn.metrics import mean_squared_error"
   ],
   "id": "89663fdc29b03fb8",
   "outputs": [],
   "execution_count": 57
  },
  {
   "metadata": {
    "ExecuteTime": {
     "end_time": "2024-05-29T08:03:19.099219Z",
     "start_time": "2024-05-29T08:03:19.097437Z"
    }
   },
   "cell_type": "code",
   "source": [
    "def rmse(y_test, y_pred):\n",
    "    return np.sqrt(mean_squared_error(np.expm1(y_test), np.expm1(y_pred)))"
   ],
   "id": "5770ee22ccaf7d70",
   "outputs": [],
   "execution_count": 58
  },
  {
   "metadata": {
    "ExecuteTime": {
     "end_time": "2024-05-29T08:03:26.680391Z",
     "start_time": "2024-05-29T08:03:26.678550Z"
    }
   },
   "cell_type": "code",
   "source": [
    "from xgboost import XGBRegressor\n",
    "from lightgbm import LGBMRegressor\n",
    "from sklearn.ensemble import GradientBoostingRegressor, RandomForestRegressor"
   ],
   "id": "427e9dd28c209267",
   "outputs": [],
   "execution_count": 59
  },
  {
   "metadata": {
    "ExecuteTime": {
     "end_time": "2024-05-29T08:03:36.616968Z",
     "start_time": "2024-05-29T08:03:36.614175Z"
    }
   },
   "cell_type": "code",
   "source": [
    "# random_state는 모델초기화나 데이터셋 구성에 사용되는 랜덤 시드값입니다. \n",
    "#random_state=None    # 이게 초기값입니다. 아무것도 지정하지 않고 None을 넘겨주면 모델 내부에서 임의로 선택합니다.  \n",
    "random_state=2020        # 하지만 우리는 이렇게 고정값을 세팅해 두겠습니다. \n",
    "\n",
    "gboost = GradientBoostingRegressor(random_state=random_state)\n",
    "xgboost = XGBRegressor(random_state=random_state)\n",
    "lightgbm = LGBMRegressor(random_state=random_state)\n",
    "rdforest = RandomForestRegressor(random_state=random_state)\n",
    "\n",
    "models = [gboost, xgboost, lightgbm, rdforest]"
   ],
   "id": "33617a9d36db0da5",
   "outputs": [],
   "execution_count": 60
  },
  {
   "metadata": {
    "ExecuteTime": {
     "end_time": "2024-05-29T08:18:30.741407Z",
     "start_time": "2024-05-29T08:18:29.187121Z"
    }
   },
   "cell_type": "code",
   "source": [
    "df = {}\n",
    "\n",
    "for model in models:\n",
    "    # 모델 이름 획득\n",
    "    model_name = model.__class__.__name__\n",
    "\n",
    "    # train, test 데이터셋 분리\n",
    "    # random_state를 사용하여 고정하고 train과 test 셋의 비율은 8:2로 합니다.\n",
    "    # [[YOUR CODE]]\n",
    "    Input_train, Input_test, target_train, target_test = train_test_split(\n",
    "        X_train, y_train, test_size=0.2, random_state=random_state)\n",
    "    \n",
    "    print(Input_train.describe())\n",
    "\n",
    "    # 모델 학습\n",
    "    # [[YOUR CODE]]\n",
    "    model.fit(Input_train, target_train)\n",
    "    \n",
    "    # 예측\n",
    "    # [[YOUR CODE]]\n",
    "    target_pred = model.predict(Input_test)\n",
    "\n",
    "    # 예측 결과의 rmse값 저장\n",
    "    df[model_name] = rmse(target_test, target_pred)\n",
    "    \n",
    "    # data frame에 저장\n",
    "    score_df = pd.DataFrame(df, index=['RMSE']).T.sort_values('RMSE', ascending=False)\n",
    "    \n",
    "df"
   ],
   "id": "8939539016827409",
   "outputs": [
    {
     "name": "stdout",
     "output_type": "stream",
     "text": [
      "          bedrooms    bathrooms   sqft_living      sqft_lot       floors  \\\n",
      "count  7697.000000  7697.000000   7697.000000  7.697000e+03  7697.000000   \n",
      "mean      3.365987     2.113031   2081.563077  1.534418e+04     1.497661   \n",
      "std       0.901028     0.772324    934.763351  4.188029e+04     0.541838   \n",
      "min       0.000000     0.000000    290.000000  5.720000e+02     1.000000   \n",
      "25%       3.000000     1.500000   1420.000000  5.016000e+03     1.000000   \n",
      "50%       3.000000     2.250000   1900.000000  7.620000e+03     1.500000   \n",
      "75%       4.000000     2.500000   2560.000000  1.050700e+04     2.000000   \n",
      "max      10.000000     8.000000  13540.000000  1.024068e+06     3.500000   \n",
      "\n",
      "        waterfront         view    condition        grade   sqft_above  \\\n",
      "count  7697.000000  7697.000000  7697.000000  7697.000000  7697.000000   \n",
      "mean      0.007146     0.247889     3.409640     7.662726  1787.921528   \n",
      "std       0.084235     0.789667     0.647982     1.193496   834.834399   \n",
      "min       0.000000     0.000000     1.000000     1.000000   290.000000   \n",
      "25%       0.000000     0.000000     3.000000     7.000000  1180.000000   \n",
      "50%       0.000000     0.000000     3.000000     7.000000  1560.000000   \n",
      "75%       0.000000     0.000000     4.000000     8.000000  2220.000000   \n",
      "max       1.000000     4.000000     5.000000    13.000000  9410.000000   \n",
      "\n",
      "       sqft_basement     yr_built  yr_renovated       zipcode          lat  \\\n",
      "count    7697.000000  7697.000000   7697.000000   7697.000000  7697.000000   \n",
      "mean      293.641549  1970.986618     83.480187  98078.265168    47.561615   \n",
      "std       444.972074    29.176224    399.556782     53.073990     0.138222   \n",
      "min         0.000000  1900.000000      0.000000  98001.000000    47.162200   \n",
      "25%         0.000000  1951.000000      0.000000  98033.000000    47.475900   \n",
      "50%         0.000000  1974.000000      0.000000  98065.000000    47.573200   \n",
      "75%       560.000000  1997.000000      0.000000  98117.000000    47.678200   \n",
      "max      4130.000000  2015.000000   2015.000000  98199.000000    47.777400   \n",
      "\n",
      "              long  sqft_living15     sqft_lot15  \n",
      "count  7697.000000    7697.000000    7697.000000  \n",
      "mean   -122.214084    1989.600234   12743.767182  \n",
      "std       0.141040     689.310856   26576.297215  \n",
      "min    -122.511000     460.000000     660.000000  \n",
      "25%    -122.328000    1490.000000    5095.000000  \n",
      "50%    -122.231000    1850.000000    7606.000000  \n",
      "75%    -122.126000    2360.000000   10052.000000  \n",
      "max    -121.315000    6110.000000  560617.000000  \n",
      "          bedrooms    bathrooms   sqft_living      sqft_lot       floors  \\\n",
      "count  7697.000000  7697.000000   7697.000000  7.697000e+03  7697.000000   \n",
      "mean      3.365987     2.113031   2081.563077  1.534418e+04     1.497661   \n",
      "std       0.901028     0.772324    934.763351  4.188029e+04     0.541838   \n",
      "min       0.000000     0.000000    290.000000  5.720000e+02     1.000000   \n",
      "25%       3.000000     1.500000   1420.000000  5.016000e+03     1.000000   \n",
      "50%       3.000000     2.250000   1900.000000  7.620000e+03     1.500000   \n",
      "75%       4.000000     2.500000   2560.000000  1.050700e+04     2.000000   \n",
      "max      10.000000     8.000000  13540.000000  1.024068e+06     3.500000   \n",
      "\n",
      "        waterfront         view    condition        grade   sqft_above  \\\n",
      "count  7697.000000  7697.000000  7697.000000  7697.000000  7697.000000   \n",
      "mean      0.007146     0.247889     3.409640     7.662726  1787.921528   \n",
      "std       0.084235     0.789667     0.647982     1.193496   834.834399   \n",
      "min       0.000000     0.000000     1.000000     1.000000   290.000000   \n",
      "25%       0.000000     0.000000     3.000000     7.000000  1180.000000   \n",
      "50%       0.000000     0.000000     3.000000     7.000000  1560.000000   \n",
      "75%       0.000000     0.000000     4.000000     8.000000  2220.000000   \n",
      "max       1.000000     4.000000     5.000000    13.000000  9410.000000   \n",
      "\n",
      "       sqft_basement     yr_built  yr_renovated       zipcode          lat  \\\n",
      "count    7697.000000  7697.000000   7697.000000   7697.000000  7697.000000   \n",
      "mean      293.641549  1970.986618     83.480187  98078.265168    47.561615   \n",
      "std       444.972074    29.176224    399.556782     53.073990     0.138222   \n",
      "min         0.000000  1900.000000      0.000000  98001.000000    47.162200   \n",
      "25%         0.000000  1951.000000      0.000000  98033.000000    47.475900   \n",
      "50%         0.000000  1974.000000      0.000000  98065.000000    47.573200   \n",
      "75%       560.000000  1997.000000      0.000000  98117.000000    47.678200   \n",
      "max      4130.000000  2015.000000   2015.000000  98199.000000    47.777400   \n",
      "\n",
      "              long  sqft_living15     sqft_lot15  \n",
      "count  7697.000000    7697.000000    7697.000000  \n",
      "mean   -122.214084    1989.600234   12743.767182  \n",
      "std       0.141040     689.310856   26576.297215  \n",
      "min    -122.511000     460.000000     660.000000  \n",
      "25%    -122.328000    1490.000000    5095.000000  \n",
      "50%    -122.231000    1850.000000    7606.000000  \n",
      "75%    -122.126000    2360.000000   10052.000000  \n",
      "max    -121.315000    6110.000000  560617.000000  \n"
     ]
    },
    {
     "ename": "ValueError",
     "evalue": "DataFrame.dtypes for data must be int, float, bool or category. When categorical type is supplied, The experimental DMatrix parameter`enable_categorical` must be set to `True`.  Invalid columns:date: object",
     "output_type": "error",
     "traceback": [
      "\u001B[0;31m---------------------------------------------------------------------------\u001B[0m",
      "\u001B[0;31mValueError\u001B[0m                                Traceback (most recent call last)",
      "Cell \u001B[0;32mIn[66], line 17\u001B[0m\n\u001B[1;32m     13\u001B[0m \u001B[38;5;28mprint\u001B[39m(Input_train\u001B[38;5;241m.\u001B[39mdescribe())\n\u001B[1;32m     15\u001B[0m \u001B[38;5;66;03m# 모델 학습\u001B[39;00m\n\u001B[1;32m     16\u001B[0m \u001B[38;5;66;03m# [[YOUR CODE]]\u001B[39;00m\n\u001B[0;32m---> 17\u001B[0m model\u001B[38;5;241m.\u001B[39mfit(Input_train, target_train)\n\u001B[1;32m     19\u001B[0m \u001B[38;5;66;03m# 예측\u001B[39;00m\n\u001B[1;32m     20\u001B[0m \u001B[38;5;66;03m# [[YOUR CODE]]\u001B[39;00m\n\u001B[1;32m     21\u001B[0m target_pred \u001B[38;5;241m=\u001B[39m model\u001B[38;5;241m.\u001B[39mpredict(Input_test)\n",
      "File \u001B[0;32m~/anaconda3/envs/Aiffel/lib/python3.11/site-packages/xgboost/core.py:730\u001B[0m, in \u001B[0;36mrequire_keyword_args.<locals>.throw_if.<locals>.inner_f\u001B[0;34m(*args, **kwargs)\u001B[0m\n\u001B[1;32m    728\u001B[0m \u001B[38;5;28;01mfor\u001B[39;00m k, arg \u001B[38;5;129;01min\u001B[39;00m \u001B[38;5;28mzip\u001B[39m(sig\u001B[38;5;241m.\u001B[39mparameters, args):\n\u001B[1;32m    729\u001B[0m     kwargs[k] \u001B[38;5;241m=\u001B[39m arg\n\u001B[0;32m--> 730\u001B[0m \u001B[38;5;28;01mreturn\u001B[39;00m func(\u001B[38;5;241m*\u001B[39m\u001B[38;5;241m*\u001B[39mkwargs)\n",
      "File \u001B[0;32m~/anaconda3/envs/Aiffel/lib/python3.11/site-packages/xgboost/sklearn.py:1055\u001B[0m, in \u001B[0;36mXGBModel.fit\u001B[0;34m(self, X, y, sample_weight, base_margin, eval_set, eval_metric, early_stopping_rounds, verbose, xgb_model, sample_weight_eval_set, base_margin_eval_set, feature_weights, callbacks)\u001B[0m\n\u001B[1;32m   1053\u001B[0m \u001B[38;5;28;01mwith\u001B[39;00m config_context(verbosity\u001B[38;5;241m=\u001B[39m\u001B[38;5;28mself\u001B[39m\u001B[38;5;241m.\u001B[39mverbosity):\n\u001B[1;32m   1054\u001B[0m     evals_result: TrainingCallback\u001B[38;5;241m.\u001B[39mEvalsLog \u001B[38;5;241m=\u001B[39m {}\n\u001B[0;32m-> 1055\u001B[0m     train_dmatrix, evals \u001B[38;5;241m=\u001B[39m _wrap_evaluation_matrices(\n\u001B[1;32m   1056\u001B[0m         missing\u001B[38;5;241m=\u001B[39m\u001B[38;5;28mself\u001B[39m\u001B[38;5;241m.\u001B[39mmissing,\n\u001B[1;32m   1057\u001B[0m         X\u001B[38;5;241m=\u001B[39mX,\n\u001B[1;32m   1058\u001B[0m         y\u001B[38;5;241m=\u001B[39my,\n\u001B[1;32m   1059\u001B[0m         group\u001B[38;5;241m=\u001B[39m\u001B[38;5;28;01mNone\u001B[39;00m,\n\u001B[1;32m   1060\u001B[0m         qid\u001B[38;5;241m=\u001B[39m\u001B[38;5;28;01mNone\u001B[39;00m,\n\u001B[1;32m   1061\u001B[0m         sample_weight\u001B[38;5;241m=\u001B[39msample_weight,\n\u001B[1;32m   1062\u001B[0m         base_margin\u001B[38;5;241m=\u001B[39mbase_margin,\n\u001B[1;32m   1063\u001B[0m         feature_weights\u001B[38;5;241m=\u001B[39mfeature_weights,\n\u001B[1;32m   1064\u001B[0m         eval_set\u001B[38;5;241m=\u001B[39meval_set,\n\u001B[1;32m   1065\u001B[0m         sample_weight_eval_set\u001B[38;5;241m=\u001B[39msample_weight_eval_set,\n\u001B[1;32m   1066\u001B[0m         base_margin_eval_set\u001B[38;5;241m=\u001B[39mbase_margin_eval_set,\n\u001B[1;32m   1067\u001B[0m         eval_group\u001B[38;5;241m=\u001B[39m\u001B[38;5;28;01mNone\u001B[39;00m,\n\u001B[1;32m   1068\u001B[0m         eval_qid\u001B[38;5;241m=\u001B[39m\u001B[38;5;28;01mNone\u001B[39;00m,\n\u001B[1;32m   1069\u001B[0m         create_dmatrix\u001B[38;5;241m=\u001B[39m\u001B[38;5;28mself\u001B[39m\u001B[38;5;241m.\u001B[39m_create_dmatrix,\n\u001B[1;32m   1070\u001B[0m         enable_categorical\u001B[38;5;241m=\u001B[39m\u001B[38;5;28mself\u001B[39m\u001B[38;5;241m.\u001B[39menable_categorical,\n\u001B[1;32m   1071\u001B[0m         feature_types\u001B[38;5;241m=\u001B[39m\u001B[38;5;28mself\u001B[39m\u001B[38;5;241m.\u001B[39mfeature_types,\n\u001B[1;32m   1072\u001B[0m     )\n\u001B[1;32m   1073\u001B[0m     params \u001B[38;5;241m=\u001B[39m \u001B[38;5;28mself\u001B[39m\u001B[38;5;241m.\u001B[39mget_xgb_params()\n\u001B[1;32m   1075\u001B[0m     \u001B[38;5;28;01mif\u001B[39;00m \u001B[38;5;28mcallable\u001B[39m(\u001B[38;5;28mself\u001B[39m\u001B[38;5;241m.\u001B[39mobjective):\n",
      "File \u001B[0;32m~/anaconda3/envs/Aiffel/lib/python3.11/site-packages/xgboost/sklearn.py:521\u001B[0m, in \u001B[0;36m_wrap_evaluation_matrices\u001B[0;34m(missing, X, y, group, qid, sample_weight, base_margin, feature_weights, eval_set, sample_weight_eval_set, base_margin_eval_set, eval_group, eval_qid, create_dmatrix, enable_categorical, feature_types)\u001B[0m\n\u001B[1;32m    501\u001B[0m \u001B[38;5;28;01mdef\u001B[39;00m \u001B[38;5;21m_wrap_evaluation_matrices\u001B[39m(\n\u001B[1;32m    502\u001B[0m     missing: \u001B[38;5;28mfloat\u001B[39m,\n\u001B[1;32m    503\u001B[0m     X: Any,\n\u001B[0;32m   (...)\u001B[0m\n\u001B[1;32m    517\u001B[0m     feature_types: Optional[FeatureTypes],\n\u001B[1;32m    518\u001B[0m ) \u001B[38;5;241m-\u001B[39m\u001B[38;5;241m>\u001B[39m Tuple[Any, List[Tuple[Any, \u001B[38;5;28mstr\u001B[39m]]]:\n\u001B[1;32m    519\u001B[0m \u001B[38;5;250m    \u001B[39m\u001B[38;5;124;03m\"\"\"Convert array_like evaluation matrices into DMatrix.  Perform validation on the\u001B[39;00m\n\u001B[1;32m    520\u001B[0m \u001B[38;5;124;03m    way.\"\"\"\u001B[39;00m\n\u001B[0;32m--> 521\u001B[0m     train_dmatrix \u001B[38;5;241m=\u001B[39m create_dmatrix(\n\u001B[1;32m    522\u001B[0m         data\u001B[38;5;241m=\u001B[39mX,\n\u001B[1;32m    523\u001B[0m         label\u001B[38;5;241m=\u001B[39my,\n\u001B[1;32m    524\u001B[0m         group\u001B[38;5;241m=\u001B[39mgroup,\n\u001B[1;32m    525\u001B[0m         qid\u001B[38;5;241m=\u001B[39mqid,\n\u001B[1;32m    526\u001B[0m         weight\u001B[38;5;241m=\u001B[39msample_weight,\n\u001B[1;32m    527\u001B[0m         base_margin\u001B[38;5;241m=\u001B[39mbase_margin,\n\u001B[1;32m    528\u001B[0m         feature_weights\u001B[38;5;241m=\u001B[39mfeature_weights,\n\u001B[1;32m    529\u001B[0m         missing\u001B[38;5;241m=\u001B[39mmissing,\n\u001B[1;32m    530\u001B[0m         enable_categorical\u001B[38;5;241m=\u001B[39menable_categorical,\n\u001B[1;32m    531\u001B[0m         feature_types\u001B[38;5;241m=\u001B[39mfeature_types,\n\u001B[1;32m    532\u001B[0m         ref\u001B[38;5;241m=\u001B[39m\u001B[38;5;28;01mNone\u001B[39;00m,\n\u001B[1;32m    533\u001B[0m     )\n\u001B[1;32m    535\u001B[0m     n_validation \u001B[38;5;241m=\u001B[39m \u001B[38;5;241m0\u001B[39m \u001B[38;5;28;01mif\u001B[39;00m eval_set \u001B[38;5;129;01mis\u001B[39;00m \u001B[38;5;28;01mNone\u001B[39;00m \u001B[38;5;28;01melse\u001B[39;00m \u001B[38;5;28mlen\u001B[39m(eval_set)\n\u001B[1;32m    537\u001B[0m     \u001B[38;5;28;01mdef\u001B[39;00m \u001B[38;5;21mvalidate_or_none\u001B[39m(meta: Optional[Sequence], name: \u001B[38;5;28mstr\u001B[39m) \u001B[38;5;241m-\u001B[39m\u001B[38;5;241m>\u001B[39m Sequence:\n",
      "File \u001B[0;32m~/anaconda3/envs/Aiffel/lib/python3.11/site-packages/xgboost/sklearn.py:958\u001B[0m, in \u001B[0;36mXGBModel._create_dmatrix\u001B[0;34m(self, ref, **kwargs)\u001B[0m\n\u001B[1;32m    956\u001B[0m \u001B[38;5;28;01mif\u001B[39;00m _can_use_qdm(\u001B[38;5;28mself\u001B[39m\u001B[38;5;241m.\u001B[39mtree_method) \u001B[38;5;129;01mand\u001B[39;00m \u001B[38;5;28mself\u001B[39m\u001B[38;5;241m.\u001B[39mbooster \u001B[38;5;241m!=\u001B[39m \u001B[38;5;124m\"\u001B[39m\u001B[38;5;124mgblinear\u001B[39m\u001B[38;5;124m\"\u001B[39m:\n\u001B[1;32m    957\u001B[0m     \u001B[38;5;28;01mtry\u001B[39;00m:\n\u001B[0;32m--> 958\u001B[0m         \u001B[38;5;28;01mreturn\u001B[39;00m QuantileDMatrix(\n\u001B[1;32m    959\u001B[0m             \u001B[38;5;241m*\u001B[39m\u001B[38;5;241m*\u001B[39mkwargs, ref\u001B[38;5;241m=\u001B[39mref, nthread\u001B[38;5;241m=\u001B[39m\u001B[38;5;28mself\u001B[39m\u001B[38;5;241m.\u001B[39mn_jobs, max_bin\u001B[38;5;241m=\u001B[39m\u001B[38;5;28mself\u001B[39m\u001B[38;5;241m.\u001B[39mmax_bin\n\u001B[1;32m    960\u001B[0m         )\n\u001B[1;32m    961\u001B[0m     \u001B[38;5;28;01mexcept\u001B[39;00m \u001B[38;5;167;01mTypeError\u001B[39;00m:  \u001B[38;5;66;03m# `QuantileDMatrix` supports lesser types than DMatrix\u001B[39;00m\n\u001B[1;32m    962\u001B[0m         \u001B[38;5;28;01mpass\u001B[39;00m\n",
      "File \u001B[0;32m~/anaconda3/envs/Aiffel/lib/python3.11/site-packages/xgboost/core.py:730\u001B[0m, in \u001B[0;36mrequire_keyword_args.<locals>.throw_if.<locals>.inner_f\u001B[0;34m(*args, **kwargs)\u001B[0m\n\u001B[1;32m    728\u001B[0m \u001B[38;5;28;01mfor\u001B[39;00m k, arg \u001B[38;5;129;01min\u001B[39;00m \u001B[38;5;28mzip\u001B[39m(sig\u001B[38;5;241m.\u001B[39mparameters, args):\n\u001B[1;32m    729\u001B[0m     kwargs[k] \u001B[38;5;241m=\u001B[39m arg\n\u001B[0;32m--> 730\u001B[0m \u001B[38;5;28;01mreturn\u001B[39;00m func(\u001B[38;5;241m*\u001B[39m\u001B[38;5;241m*\u001B[39mkwargs)\n",
      "File \u001B[0;32m~/anaconda3/envs/Aiffel/lib/python3.11/site-packages/xgboost/core.py:1529\u001B[0m, in \u001B[0;36mQuantileDMatrix.__init__\u001B[0;34m(self, data, label, weight, base_margin, missing, silent, feature_names, feature_types, nthread, max_bin, ref, group, qid, label_lower_bound, label_upper_bound, feature_weights, enable_categorical, data_split_mode)\u001B[0m\n\u001B[1;32m   1509\u001B[0m     \u001B[38;5;28;01mif\u001B[39;00m \u001B[38;5;28many\u001B[39m(\n\u001B[1;32m   1510\u001B[0m         info \u001B[38;5;129;01mis\u001B[39;00m \u001B[38;5;129;01mnot\u001B[39;00m \u001B[38;5;28;01mNone\u001B[39;00m\n\u001B[1;32m   1511\u001B[0m         \u001B[38;5;28;01mfor\u001B[39;00m info \u001B[38;5;129;01min\u001B[39;00m (\n\u001B[0;32m   (...)\u001B[0m\n\u001B[1;32m   1522\u001B[0m         )\n\u001B[1;32m   1523\u001B[0m     ):\n\u001B[1;32m   1524\u001B[0m         \u001B[38;5;28;01mraise\u001B[39;00m \u001B[38;5;167;01mValueError\u001B[39;00m(\n\u001B[1;32m   1525\u001B[0m             \u001B[38;5;124m\"\u001B[39m\u001B[38;5;124mIf data iterator is used as input, data like label should be \u001B[39m\u001B[38;5;124m\"\u001B[39m\n\u001B[1;32m   1526\u001B[0m             \u001B[38;5;124m\"\u001B[39m\u001B[38;5;124mspecified as batch argument.\u001B[39m\u001B[38;5;124m\"\u001B[39m\n\u001B[1;32m   1527\u001B[0m         )\n\u001B[0;32m-> 1529\u001B[0m \u001B[38;5;28mself\u001B[39m\u001B[38;5;241m.\u001B[39m_init(\n\u001B[1;32m   1530\u001B[0m     data,\n\u001B[1;32m   1531\u001B[0m     ref\u001B[38;5;241m=\u001B[39mref,\n\u001B[1;32m   1532\u001B[0m     label\u001B[38;5;241m=\u001B[39mlabel,\n\u001B[1;32m   1533\u001B[0m     weight\u001B[38;5;241m=\u001B[39mweight,\n\u001B[1;32m   1534\u001B[0m     base_margin\u001B[38;5;241m=\u001B[39mbase_margin,\n\u001B[1;32m   1535\u001B[0m     group\u001B[38;5;241m=\u001B[39mgroup,\n\u001B[1;32m   1536\u001B[0m     qid\u001B[38;5;241m=\u001B[39mqid,\n\u001B[1;32m   1537\u001B[0m     label_lower_bound\u001B[38;5;241m=\u001B[39mlabel_lower_bound,\n\u001B[1;32m   1538\u001B[0m     label_upper_bound\u001B[38;5;241m=\u001B[39mlabel_upper_bound,\n\u001B[1;32m   1539\u001B[0m     feature_weights\u001B[38;5;241m=\u001B[39mfeature_weights,\n\u001B[1;32m   1540\u001B[0m     feature_names\u001B[38;5;241m=\u001B[39mfeature_names,\n\u001B[1;32m   1541\u001B[0m     feature_types\u001B[38;5;241m=\u001B[39mfeature_types,\n\u001B[1;32m   1542\u001B[0m     enable_categorical\u001B[38;5;241m=\u001B[39menable_categorical,\n\u001B[1;32m   1543\u001B[0m )\n",
      "File \u001B[0;32m~/anaconda3/envs/Aiffel/lib/python3.11/site-packages/xgboost/core.py:1588\u001B[0m, in \u001B[0;36mQuantileDMatrix._init\u001B[0;34m(self, data, ref, enable_categorical, **meta)\u001B[0m\n\u001B[1;32m   1576\u001B[0m config \u001B[38;5;241m=\u001B[39m make_jcargs(\n\u001B[1;32m   1577\u001B[0m     nthread\u001B[38;5;241m=\u001B[39m\u001B[38;5;28mself\u001B[39m\u001B[38;5;241m.\u001B[39mnthread, missing\u001B[38;5;241m=\u001B[39m\u001B[38;5;28mself\u001B[39m\u001B[38;5;241m.\u001B[39mmissing, max_bin\u001B[38;5;241m=\u001B[39m\u001B[38;5;28mself\u001B[39m\u001B[38;5;241m.\u001B[39mmax_bin\n\u001B[1;32m   1578\u001B[0m )\n\u001B[1;32m   1579\u001B[0m ret \u001B[38;5;241m=\u001B[39m _LIB\u001B[38;5;241m.\u001B[39mXGQuantileDMatrixCreateFromCallback(\n\u001B[1;32m   1580\u001B[0m     \u001B[38;5;28;01mNone\u001B[39;00m,\n\u001B[1;32m   1581\u001B[0m     it\u001B[38;5;241m.\u001B[39mproxy\u001B[38;5;241m.\u001B[39mhandle,\n\u001B[0;32m   (...)\u001B[0m\n\u001B[1;32m   1586\u001B[0m     ctypes\u001B[38;5;241m.\u001B[39mbyref(handle),\n\u001B[1;32m   1587\u001B[0m )\n\u001B[0;32m-> 1588\u001B[0m it\u001B[38;5;241m.\u001B[39mreraise()\n\u001B[1;32m   1589\u001B[0m \u001B[38;5;66;03m# delay check_call to throw intermediate exception first\u001B[39;00m\n\u001B[1;32m   1590\u001B[0m _check_call(ret)\n",
      "File \u001B[0;32m~/anaconda3/envs/Aiffel/lib/python3.11/site-packages/xgboost/core.py:576\u001B[0m, in \u001B[0;36mDataIter.reraise\u001B[0;34m(self)\u001B[0m\n\u001B[1;32m    574\u001B[0m exc \u001B[38;5;241m=\u001B[39m \u001B[38;5;28mself\u001B[39m\u001B[38;5;241m.\u001B[39m_exception\n\u001B[1;32m    575\u001B[0m \u001B[38;5;28mself\u001B[39m\u001B[38;5;241m.\u001B[39m_exception \u001B[38;5;241m=\u001B[39m \u001B[38;5;28;01mNone\u001B[39;00m\n\u001B[0;32m--> 576\u001B[0m \u001B[38;5;28;01mraise\u001B[39;00m exc\n",
      "File \u001B[0;32m~/anaconda3/envs/Aiffel/lib/python3.11/site-packages/xgboost/core.py:557\u001B[0m, in \u001B[0;36mDataIter._handle_exception\u001B[0;34m(self, fn, dft_ret)\u001B[0m\n\u001B[1;32m    554\u001B[0m     \u001B[38;5;28;01mreturn\u001B[39;00m dft_ret\n\u001B[1;32m    556\u001B[0m \u001B[38;5;28;01mtry\u001B[39;00m:\n\u001B[0;32m--> 557\u001B[0m     \u001B[38;5;28;01mreturn\u001B[39;00m fn()\n\u001B[1;32m    558\u001B[0m \u001B[38;5;28;01mexcept\u001B[39;00m \u001B[38;5;167;01mException\u001B[39;00m \u001B[38;5;28;01mas\u001B[39;00m e:  \u001B[38;5;66;03m# pylint: disable=broad-except\u001B[39;00m\n\u001B[1;32m    559\u001B[0m     \u001B[38;5;66;03m# Defer the exception in order to return 0 and stop the iteration.\u001B[39;00m\n\u001B[1;32m    560\u001B[0m     \u001B[38;5;66;03m# Exception inside a ctype callback function has no effect except\u001B[39;00m\n\u001B[1;32m    561\u001B[0m     \u001B[38;5;66;03m# for printing to stderr (doesn't stop the execution).\u001B[39;00m\n\u001B[1;32m    562\u001B[0m     tb \u001B[38;5;241m=\u001B[39m sys\u001B[38;5;241m.\u001B[39mexc_info()[\u001B[38;5;241m2\u001B[39m]\n",
      "File \u001B[0;32m~/anaconda3/envs/Aiffel/lib/python3.11/site-packages/xgboost/core.py:641\u001B[0m, in \u001B[0;36mDataIter._next_wrapper.<locals>.<lambda>\u001B[0;34m()\u001B[0m\n\u001B[1;32m    638\u001B[0m     \u001B[38;5;28mself\u001B[39m\u001B[38;5;241m.\u001B[39m_data_ref \u001B[38;5;241m=\u001B[39m ref\n\u001B[1;32m    640\u001B[0m \u001B[38;5;66;03m# pylint: disable=not-callable\u001B[39;00m\n\u001B[0;32m--> 641\u001B[0m \u001B[38;5;28;01mreturn\u001B[39;00m \u001B[38;5;28mself\u001B[39m\u001B[38;5;241m.\u001B[39m_handle_exception(\u001B[38;5;28;01mlambda\u001B[39;00m: \u001B[38;5;28mself\u001B[39m\u001B[38;5;241m.\u001B[39mnext(input_data), \u001B[38;5;241m0\u001B[39m)\n",
      "File \u001B[0;32m~/anaconda3/envs/Aiffel/lib/python3.11/site-packages/xgboost/data.py:1280\u001B[0m, in \u001B[0;36mSingleBatchInternalIter.next\u001B[0;34m(self, input_data)\u001B[0m\n\u001B[1;32m   1278\u001B[0m     \u001B[38;5;28;01mreturn\u001B[39;00m \u001B[38;5;241m0\u001B[39m\n\u001B[1;32m   1279\u001B[0m \u001B[38;5;28mself\u001B[39m\u001B[38;5;241m.\u001B[39mit \u001B[38;5;241m+\u001B[39m\u001B[38;5;241m=\u001B[39m \u001B[38;5;241m1\u001B[39m\n\u001B[0;32m-> 1280\u001B[0m input_data(\u001B[38;5;241m*\u001B[39m\u001B[38;5;241m*\u001B[39m\u001B[38;5;28mself\u001B[39m\u001B[38;5;241m.\u001B[39mkwargs)\n\u001B[1;32m   1281\u001B[0m \u001B[38;5;28;01mreturn\u001B[39;00m \u001B[38;5;241m1\u001B[39m\n",
      "File \u001B[0;32m~/anaconda3/envs/Aiffel/lib/python3.11/site-packages/xgboost/core.py:730\u001B[0m, in \u001B[0;36mrequire_keyword_args.<locals>.throw_if.<locals>.inner_f\u001B[0;34m(*args, **kwargs)\u001B[0m\n\u001B[1;32m    728\u001B[0m \u001B[38;5;28;01mfor\u001B[39;00m k, arg \u001B[38;5;129;01min\u001B[39;00m \u001B[38;5;28mzip\u001B[39m(sig\u001B[38;5;241m.\u001B[39mparameters, args):\n\u001B[1;32m    729\u001B[0m     kwargs[k] \u001B[38;5;241m=\u001B[39m arg\n\u001B[0;32m--> 730\u001B[0m \u001B[38;5;28;01mreturn\u001B[39;00m func(\u001B[38;5;241m*\u001B[39m\u001B[38;5;241m*\u001B[39mkwargs)\n",
      "File \u001B[0;32m~/anaconda3/envs/Aiffel/lib/python3.11/site-packages/xgboost/core.py:624\u001B[0m, in \u001B[0;36mDataIter._next_wrapper.<locals>.input_data\u001B[0;34m(data, feature_names, feature_types, **kwargs)\u001B[0m\n\u001B[1;32m    622\u001B[0m     new, cat_codes, feature_names, feature_types \u001B[38;5;241m=\u001B[39m \u001B[38;5;28mself\u001B[39m\u001B[38;5;241m.\u001B[39m_temporary_data\n\u001B[1;32m    623\u001B[0m \u001B[38;5;28;01melse\u001B[39;00m:\n\u001B[0;32m--> 624\u001B[0m     new, cat_codes, feature_names, feature_types \u001B[38;5;241m=\u001B[39m _proxy_transform(\n\u001B[1;32m    625\u001B[0m         data,\n\u001B[1;32m    626\u001B[0m         feature_names,\n\u001B[1;32m    627\u001B[0m         feature_types,\n\u001B[1;32m    628\u001B[0m         \u001B[38;5;28mself\u001B[39m\u001B[38;5;241m.\u001B[39m_enable_categorical,\n\u001B[1;32m    629\u001B[0m     )\n\u001B[1;32m    630\u001B[0m \u001B[38;5;66;03m# Stage the data, meta info are copied inside C++ MetaInfo.\u001B[39;00m\n\u001B[1;32m    631\u001B[0m \u001B[38;5;28mself\u001B[39m\u001B[38;5;241m.\u001B[39m_temporary_data \u001B[38;5;241m=\u001B[39m (new, cat_codes, feature_names, feature_types)\n",
      "File \u001B[0;32m~/anaconda3/envs/Aiffel/lib/python3.11/site-packages/xgboost/data.py:1315\u001B[0m, in \u001B[0;36m_proxy_transform\u001B[0;34m(data, feature_names, feature_types, enable_categorical)\u001B[0m\n\u001B[1;32m   1313\u001B[0m     data \u001B[38;5;241m=\u001B[39m pd\u001B[38;5;241m.\u001B[39mDataFrame(data)\n\u001B[1;32m   1314\u001B[0m \u001B[38;5;28;01mif\u001B[39;00m _is_pandas_df(data):\n\u001B[0;32m-> 1315\u001B[0m     arr, feature_names, feature_types \u001B[38;5;241m=\u001B[39m _transform_pandas_df(\n\u001B[1;32m   1316\u001B[0m         data, enable_categorical, feature_names, feature_types\n\u001B[1;32m   1317\u001B[0m     )\n\u001B[1;32m   1318\u001B[0m     arr, _ \u001B[38;5;241m=\u001B[39m _ensure_np_dtype(arr, arr\u001B[38;5;241m.\u001B[39mdtype)\n\u001B[1;32m   1319\u001B[0m     \u001B[38;5;28;01mreturn\u001B[39;00m arr, \u001B[38;5;28;01mNone\u001B[39;00m, feature_names, feature_types\n",
      "File \u001B[0;32m~/anaconda3/envs/Aiffel/lib/python3.11/site-packages/xgboost/data.py:490\u001B[0m, in \u001B[0;36m_transform_pandas_df\u001B[0;34m(data, enable_categorical, feature_names, feature_types, meta, meta_type)\u001B[0m\n\u001B[1;32m    483\u001B[0m \u001B[38;5;28;01mfor\u001B[39;00m dtype \u001B[38;5;129;01min\u001B[39;00m data\u001B[38;5;241m.\u001B[39mdtypes:\n\u001B[1;32m    484\u001B[0m     \u001B[38;5;28;01mif\u001B[39;00m \u001B[38;5;129;01mnot\u001B[39;00m (\n\u001B[1;32m    485\u001B[0m         (dtype\u001B[38;5;241m.\u001B[39mname \u001B[38;5;129;01min\u001B[39;00m _pandas_dtype_mapper)\n\u001B[1;32m    486\u001B[0m         \u001B[38;5;129;01mor\u001B[39;00m is_pd_sparse_dtype(dtype)\n\u001B[1;32m    487\u001B[0m         \u001B[38;5;129;01mor\u001B[39;00m (is_pd_cat_dtype(dtype) \u001B[38;5;129;01mand\u001B[39;00m enable_categorical)\n\u001B[1;32m    488\u001B[0m         \u001B[38;5;129;01mor\u001B[39;00m is_pa_ext_dtype(dtype)\n\u001B[1;32m    489\u001B[0m     ):\n\u001B[0;32m--> 490\u001B[0m         _invalid_dataframe_dtype(data)\n\u001B[1;32m    491\u001B[0m     \u001B[38;5;28;01mif\u001B[39;00m is_pa_ext_dtype(dtype):\n\u001B[1;32m    492\u001B[0m         pyarrow_extension \u001B[38;5;241m=\u001B[39m \u001B[38;5;28;01mTrue\u001B[39;00m\n",
      "File \u001B[0;32m~/anaconda3/envs/Aiffel/lib/python3.11/site-packages/xgboost/data.py:308\u001B[0m, in \u001B[0;36m_invalid_dataframe_dtype\u001B[0;34m(data)\u001B[0m\n\u001B[1;32m    306\u001B[0m type_err \u001B[38;5;241m=\u001B[39m \u001B[38;5;124m\"\u001B[39m\u001B[38;5;124mDataFrame.dtypes for data must be int, float, bool or category.\u001B[39m\u001B[38;5;124m\"\u001B[39m\n\u001B[1;32m    307\u001B[0m msg \u001B[38;5;241m=\u001B[39m \u001B[38;5;124mf\u001B[39m\u001B[38;5;124m\"\"\"\u001B[39m\u001B[38;5;132;01m{\u001B[39;00mtype_err\u001B[38;5;132;01m}\u001B[39;00m\u001B[38;5;124m \u001B[39m\u001B[38;5;132;01m{\u001B[39;00m_ENABLE_CAT_ERR\u001B[38;5;132;01m}\u001B[39;00m\u001B[38;5;124m \u001B[39m\u001B[38;5;132;01m{\u001B[39;00merr\u001B[38;5;132;01m}\u001B[39;00m\u001B[38;5;124m\"\"\"\u001B[39m\n\u001B[0;32m--> 308\u001B[0m \u001B[38;5;28;01mraise\u001B[39;00m \u001B[38;5;167;01mValueError\u001B[39;00m(msg)\n",
      "\u001B[0;31mValueError\u001B[0m: DataFrame.dtypes for data must be int, float, bool or category. When categorical type is supplied, The experimental DMatrix parameter`enable_categorical` must be set to `True`.  Invalid columns:date: object"
     ]
    }
   ],
   "execution_count": 66
  },
  {
   "metadata": {},
   "cell_type": "code",
   "outputs": [],
   "execution_count": null,
   "source": "",
   "id": "53b4c6d317b2032c"
  }
 ],
 "metadata": {
  "kernelspec": {
   "display_name": "Python 3",
   "language": "python",
   "name": "python3"
  },
  "language_info": {
   "codemirror_mode": {
    "name": "ipython",
    "version": 2
   },
   "file_extension": ".py",
   "mimetype": "text/x-python",
   "name": "python",
   "nbconvert_exporter": "python",
   "pygments_lexer": "ipython2",
   "version": "2.7.6"
  }
 },
 "nbformat": 4,
 "nbformat_minor": 5
}
