{
 "cells": [
  {
   "metadata": {},
   "cell_type": "markdown",
   "source": [
    "(1) 데이터 가져오기\n",
    "- sklearn.datasets의 load_diabetes에서 데이터를 가져와주세요.\n",
    "- diabetes의 data를 df_X에, target을 df_y에 저장해주세요."
   ],
   "id": "1dc2c532faec7ded"
  },
  {
   "metadata": {
    "ExecuteTime": {
     "end_time": "2024-05-22T07:31:05.901538Z",
     "start_time": "2024-05-22T07:31:05.894994Z"
    }
   },
   "cell_type": "code",
   "source": [
    "from sklearn.datasets import load_diabetes\n",
    "\n",
    "# sklearn.datasets의 load_diabetes에서 데이터를 가져와주세요.\n",
    "dataset = load_diabetes()\n",
    "\n",
    "X = dataset.data\n",
    "y = dataset.target\n",
    "\n",
    "import pandas as pd\n",
    "\n",
    "# diabetes의 data를 df_X에, target을 df_y에 저장해주세요.\n",
    "df_X = pd.DataFrame(X, columns=dataset.feature_names)\n",
    "df_y = pd.Series(y, name='target')\n",
    "\n",
    "print(df_X.head())\n",
    "print(df_y.head())\n"
   ],
   "id": "2b0c50cd3f84476f",
   "outputs": [
    {
     "name": "stdout",
     "output_type": "stream",
     "text": [
      "        age       sex       bmi        bp        s1        s2        s3  \\\n",
      "0  0.038076  0.050680  0.061696  0.021872 -0.044223 -0.034821 -0.043401   \n",
      "1 -0.001882 -0.044642 -0.051474 -0.026328 -0.008449 -0.019163  0.074412   \n",
      "2  0.085299  0.050680  0.044451 -0.005670 -0.045599 -0.034194 -0.032356   \n",
      "3 -0.089063 -0.044642 -0.011595 -0.036656  0.012191  0.024991 -0.036038   \n",
      "4  0.005383 -0.044642 -0.036385  0.021872  0.003935  0.015596  0.008142   \n",
      "\n",
      "         s4        s5        s6  \n",
      "0 -0.002592  0.019907 -0.017646  \n",
      "1 -0.039493 -0.068332 -0.092204  \n",
      "2 -0.002592  0.002861 -0.025930  \n",
      "3  0.034309  0.022688 -0.009362  \n",
      "4 -0.002592 -0.031988 -0.046641  \n",
      "0    151.0\n",
      "1     75.0\n",
      "2    141.0\n",
      "3    206.0\n",
      "4    135.0\n",
      "Name: target, dtype: float64\n"
     ]
    }
   ],
   "execution_count": 21
  },
  {
   "metadata": {},
   "cell_type": "markdown",
   "source": [
    "(2) 모델에 입력할 데이터 X 준비하기\n",
    "- df_X에 있는 값들을 numpy array로 변환해서 저장해주세요."
   ],
   "id": "f946fd864a20ca89"
  },
  {
   "metadata": {
    "ExecuteTime": {
     "end_time": "2024-05-22T07:31:05.924444Z",
     "start_time": "2024-05-22T07:31:05.921351Z"
    }
   },
   "cell_type": "code",
   "source": "X = df_X.values",
   "id": "1e29839793c15a3f",
   "outputs": [],
   "execution_count": 22
  },
  {
   "metadata": {},
   "cell_type": "markdown",
   "source": [
    "(3) 모델에 예측할 데이터 y 준비하기\n",
    "- df_y에 있는 값들을 numpy array로 변환해서 저장해주세요."
   ],
   "id": "68e38225fd35a41a"
  },
  {
   "metadata": {
    "ExecuteTime": {
     "end_time": "2024-05-22T07:31:05.927383Z",
     "start_time": "2024-05-22T07:31:05.925467Z"
    }
   },
   "cell_type": "code",
   "source": "y = df_y.values",
   "id": "2032765935d5723",
   "outputs": [],
   "execution_count": 23
  },
  {
   "metadata": {},
   "cell_type": "markdown",
   "source": [
    "(4) train 데이터와 test 데이터로 분리하기\n",
    "- X와 y 데이터를 각각 train 데이터와 test 데이터로 분리해주세요."
   ],
   "id": "3d1f7aca33743788"
  },
  {
   "metadata": {
    "ExecuteTime": {
     "end_time": "2024-05-22T07:31:05.931061Z",
     "start_time": "2024-05-22T07:31:05.927882Z"
    }
   },
   "cell_type": "code",
   "source": [
    "from sklearn.model_selection import train_test_split\n",
    "\n",
    "X_train, X_test, y_train, y_test = train_test_split(X, y, test_size=0.2, random_state=42)"
   ],
   "id": "d744269280a5d629",
   "outputs": [],
   "execution_count": 24
  },
  {
   "metadata": {},
   "cell_type": "markdown",
   "source": [
    "(5) 모델 준비하기\n",
    "- 입력 데이터 개수에 맞는 가중치 W와 b를 준비해주세요.\n",
    "- 모델 함수를 구현해주세요."
   ],
   "id": "94c5e682a679c86d"
  },
  {
   "metadata": {
    "ExecuteTime": {
     "end_time": "2024-05-22T07:31:05.934506Z",
     "start_time": "2024-05-22T07:31:05.931735Z"
    }
   },
   "cell_type": "code",
   "source": [
    "import numpy as np\n",
    "\n",
    "# 가중치 W와 편향 b 초기화 (랜덤)\n",
    "np.random.seed(0)  # 재현성을 위해 시드 설정\n",
    "W = np.random.randn(X_train.shape[1])\n",
    "b = np.random.randn()\n",
    "\n",
    "# 모델 함수 구현\n",
    "def model(X, W, b):\n",
    "    predictions = np.dot(X, W) + b\n",
    "    return predictions"
   ],
   "id": "a5ab79943e9c779c",
   "outputs": [],
   "execution_count": 25
  },
  {
   "metadata": {},
   "cell_type": "markdown",
   "source": [
    "(6) 손실함수 loss 정의하기\n",
    "- 손실함수를 MSE 함수로 정의해주세요."
   ],
   "id": "234c31242549ea5e"
  },
  {
   "metadata": {
    "ExecuteTime": {
     "end_time": "2024-05-22T07:31:05.937624Z",
     "start_time": "2024-05-22T07:31:05.935615Z"
    }
   },
   "cell_type": "code",
   "source": [
    "# 손실 함수 (MSE)\n",
    "def mse_loss(y_true, y_pred):\n",
    "    return np.mean((y_true - y_pred) ** 2)"
   ],
   "id": "66003f4380da6a4d",
   "outputs": [],
   "execution_count": 26
  },
  {
   "metadata": {},
   "cell_type": "markdown",
   "source": [
    "(7) 기울기를 구하는 gradient 함수 구현하기\n",
    "- 기울기를 계산하는 gradient 함수를 구현해주세요.\n"
   ],
   "id": "3d27d877c611d735"
  },
  {
   "metadata": {
    "ExecuteTime": {
     "end_time": "2024-05-22T07:31:05.941832Z",
     "start_time": "2024-05-22T07:31:05.938696Z"
    }
   },
   "cell_type": "code",
   "source": [
    "# 그레디언트 계산 함수\n",
    "def gradients(X, y_true, y_pred):\n",
    "    N = len(y_true)\n",
    "    \n",
    "    # 가중치 W에 대한 그레디언트\n",
    "    dW = -2/N * np.dot(X.T, (y_true - y_pred))\n",
    "    \n",
    "    # 편향 b에 대한 그레디언트\n",
    "    db = -2/N * np.sum(y_true - y_pred)\n",
    "    \n",
    "    return dW, db"
   ],
   "id": "fb82b085b7eb941c",
   "outputs": [],
   "execution_count": 27
  },
  {
   "metadata": {},
   "cell_type": "markdown",
   "source": [
    "(8) 하이퍼 파라미터인 학습률 설정하기\n",
    "- 학습률, learning rate 를 설정해주세요\n",
    "- 만약 학습이 잘 되지 않는다면 learning rate 값을 한번 여러 가지로 설정하며 실험해 보세요."
   ],
   "id": "b1aade9803197c4c"
  },
  {
   "metadata": {
    "ExecuteTime": {
     "end_time": "2024-05-22T07:41:09.310443Z",
     "start_time": "2024-05-22T07:41:09.253273Z"
    }
   },
   "cell_type": "code",
   "source": [
    "# 학습률 설정\n",
    "LEARNING_RATE = [0.001, 0.01, 0.1, 0.5, 0.7, 0.9, 1]\n",
    "iterations = 1000\n",
    "\n",
    "for lr in LEARNING_RATE:\n",
    "    # 가중치 W와 편향 b 초기화 (랜덤)\n",
    "    np.random.seed(0)\n",
    "    W = np.random.randn(X_train.shape[1])\n",
    "    b = np.random.randn()\n",
    "    \n",
    "    print(f\"\\nLearning Rate: {lr}\")\n",
    "    for i in range(iterations):\n",
    "        predictions = model(X_train, W, b)\n",
    "        dW, db = gradients(X_train, y_train, predictions)\n",
    "        W -= lr * dW\n",
    "        b -= lr * db\n",
    "        \n",
    "        # 주기적으로 손실 출력\n",
    "        if i % 100 == 0:\n",
    "            loss = mse_loss(y_train, predictions)\n",
    "            print(f\"Iteration {i}: MSE Loss = {loss}\")\n",
    "    \n",
    "    # 최종 손실 출력\n",
    "    final_loss = mse_loss(y_train, predictions)\n",
    "    print(f\"Final MSE Loss: {final_loss}\")\n",
    "    print(f\"Weight: {W}, b: {b}\")"
   ],
   "id": "d1538510fc516631",
   "outputs": [
    {
     "name": "stdout",
     "output_type": "stream",
     "text": [
      "\n",
      "Learning Rate: 0.001\n",
      "Iteration 0: MSE Loss = 29651.462915853674\n",
      "Iteration 100: MSE Loss = 21859.033766860946\n",
      "Iteration 200: MSE Loss = 16635.138374053226\n",
      "Iteration 300: MSE Loss = 13132.291920976562\n",
      "Iteration 400: MSE Loss = 10782.638932562926\n",
      "Iteration 500: MSE Loss = 9205.68899511291\n",
      "Iteration 600: MSE Loss = 8146.495266488255\n",
      "Iteration 700: MSE Loss = 7434.231114857508\n",
      "Iteration 800: MSE Loss = 6954.434481247642\n",
      "Iteration 900: MSE Loss = 6630.410272134969\n",
      "Final MSE Loss: 6412.572774508446\n",
      "Weight: [ 3.34451378  0.46408677  5.62172659  5.71358453  3.24556438  0.03636768\n",
      " -1.9727949   3.0252406   4.12835055  3.56438421], b: 132.96997521444985\n",
      "\n",
      "Learning Rate: 0.01\n",
      "Iteration 0: MSE Loss = 29651.462915853674\n",
      "Iteration 100: MSE Loss = 6395.323036583554\n",
      "Iteration 200: MSE Loss = 5911.859074354382\n",
      "Iteration 300: MSE Loss = 5831.210785084373\n",
      "Iteration 400: MSE Loss = 5759.881729791078\n",
      "Iteration 500: MSE Loss = 5690.875686426532\n",
      "Iteration 600: MSE Loss = 5623.996445863013\n",
      "Iteration 700: MSE Loss = 5559.169945534646\n",
      "Iteration 800: MSE Loss = 5496.326736000228\n",
      "Iteration 900: MSE Loss = 5435.399827014337\n",
      "Final MSE Loss: 5376.906359513144\n",
      "Weight: [ 1.46574270e+01  3.52641633e-02  4.30376272e+01  3.36632378e+01\n",
      "  1.44776960e+01  8.36886649e+00 -2.52779089e+01  2.85946665e+01\n",
      "  3.82080699e+01  2.75069314e+01], b: 153.49311176323891\n",
      "\n",
      "Learning Rate: 0.1\n",
      "Iteration 0: MSE Loss = 29651.462915853674\n",
      "Iteration 100: MSE Loss = 5375.921643369992\n",
      "Iteration 200: MSE Loss = 4874.130092654713\n",
      "Iteration 300: MSE Loss = 4501.036922707923\n",
      "Iteration 400: MSE Loss = 4219.94813575344\n",
      "Iteration 500: MSE Loss = 4005.0499318134125\n",
      "Iteration 600: MSE Loss = 3838.13821555782\n",
      "Iteration 700: MSE Loss = 3706.3358594483752\n",
      "Iteration 800: MSE Loss = 3600.4989019806817\n",
      "Iteration 900: MSE Loss = 3514.103314884287\n",
      "Final MSE Loss: 3443.122322253624\n",
      "Weight: [  57.94139964  -43.8944086   270.4137974   193.87113194   29.07568247\n",
      "    0.96296338 -147.12993788  136.24834829  223.61244296  134.69547242], b: 152.26039749230077\n",
      "\n",
      "Learning Rate: 0.5\n",
      "Iteration 0: MSE Loss = 29651.462915853674\n",
      "Iteration 100: MSE Loss = 4002.6676338687894\n",
      "Iteration 200: MSE Loss = 3441.3372676617137\n",
      "Iteration 300: MSE Loss = 3213.6783318382572\n",
      "Iteration 400: MSE Loss = 3093.468004706109\n",
      "Iteration 500: MSE Loss = 3022.51066270995\n",
      "Iteration 600: MSE Loss = 2978.791932655175\n",
      "Iteration 700: MSE Loss = 2951.27098279115\n",
      "Iteration 800: MSE Loss = 2933.6682447801304\n",
      "Iteration 900: MSE Loss = 2922.2394613555807\n",
      "Final MSE Loss: 2914.766032346994\n",
      "Weight: [  41.94819922 -203.34491305  509.65856274  325.28482481  -69.6234194\n",
      " -120.49646448 -216.56953582  144.55770813  375.87989882  111.84728689], b: 151.37243170527373\n",
      "\n",
      "Learning Rate: 0.7\n",
      "Iteration 0: MSE Loss = 29651.462915853674\n",
      "Iteration 100: MSE Loss = 3703.628886735134\n",
      "Iteration 200: MSE Loss = 3247.085042113848\n",
      "Iteration 300: MSE Loss = 3076.120034478657\n",
      "Iteration 400: MSE Loss = 2993.751791603739\n",
      "Iteration 500: MSE Loss = 2951.2029213975625\n",
      "Iteration 600: MSE Loss = 2928.4661709371494\n",
      "Iteration 700: MSE Loss = 2915.9508466033362\n",
      "Iteration 800: MSE Loss = 2908.846007169318\n",
      "Iteration 900: MSE Loss = 2904.676735392219\n",
      "Final MSE Loss: 2902.160610097228\n",
      "Weight: [  39.66596676 -225.43850425  535.75964925  335.43004859  -83.99621712\n",
      " -129.20666277 -218.61549698  145.77002597  395.51039794   90.75111343], b: 151.32089729825015\n",
      "\n",
      "Learning Rate: 0.9\n",
      "Iteration 0: MSE Loss = 29651.462915853674\n",
      "Iteration 100: MSE Loss = 3511.4664344437747\n",
      "Iteration 200: MSE Loss = 3133.2799575576055\n",
      "Iteration 300: MSE Loss = 3002.288243989295\n",
      "Iteration 400: MSE Loss = 2946.9773056685626\n",
      "Iteration 500: MSE Loss = 2922.1706296859543\n",
      "Iteration 600: MSE Loss = 2910.478426425421\n",
      "Iteration 700: MSE Loss = 2904.666535579007\n",
      "Iteration 800: MSE Loss = 2901.602779486159\n",
      "Iteration 900: MSE Loss = 2899.8784786503415\n",
      "Final MSE Loss: 2898.843001188017\n",
      "Weight: [  39.67369327 -234.52531997  547.2544075   339.37835957  -93.06836998\n",
      " -129.37884203 -217.41376929  147.90520094  406.64949991   76.69034974], b: 151.30615100330212\n",
      "\n",
      "Learning Rate: 1\n",
      "Iteration 0: MSE Loss = 29651.462915853674\n",
      "Iteration 100: MSE Loss = 27162.530248195846\n",
      "Iteration 200: MSE Loss = 26946.128420785237\n",
      "Iteration 300: MSE Loss = 26962.929933976768\n",
      "Iteration 400: MSE Loss = 27049.89014388116\n",
      "Iteration 500: MSE Loss = 27163.680318644976\n",
      "Iteration 600: MSE Loss = 27288.647530614882\n",
      "Iteration 700: MSE Loss = 27418.749033670145\n",
      "Iteration 800: MSE Loss = 27551.540537956174\n",
      "Iteration 900: MSE Loss = 27685.98593613266\n",
      "Final MSE Loss: 27820.263509751272\n",
      "Weight: [  39.73526049 -236.78852628  550.1182258   340.19975562  -96.81531461\n",
      " -128.03663662 -216.1025538   148.92441774  410.36628263   71.44569976], b: -6.566053124586176\n"
     ]
    }
   ],
   "execution_count": 37
  },
  {
   "metadata": {},
   "cell_type": "markdown",
   "source": [
    "(9) 모델 학습하기\n",
    "- 정의된 손실함수와 기울기 함수로 모델을 학습해주세요.\n",
    "- loss값이 충분히 떨어질 때까지 학습을 진행해주세요.\n",
    "- Learning Rate: 0.9, \n",
    "- 입력하는 데이터인 X에 들어가는 특성 컬럼들을 몇 개 빼도 괜찮습니다. 다양한 데이터로 실험해 보세요."
   ],
   "id": "98a874e741e16786"
  },
  {
   "metadata": {
    "ExecuteTime": {
     "end_time": "2024-05-22T07:50:36.886091Z",
     "start_time": "2024-05-22T07:50:36.843767Z"
    }
   },
   "cell_type": "code",
   "source": [
    "def train_model(X, y):\n",
    "    np.random.seed(0)\n",
    "    W = np.random.randn(X.shape[1])\n",
    "    b = np.random.randn()\n",
    "    \n",
    "    for i in range(5000):\n",
    "        predictions = model(X, W, b)\n",
    "        dW, db = gradients(X, y, predictions)\n",
    "        W -= 0.9 * dW\n",
    "        b -= 0.9 * db\n",
    "        \n",
    "        if i % 100 == 0:\n",
    "            loss = mse_loss(y, predictions)\n",
    "            print(f\"Iteration {i}: MSE Loss = {loss}\")\n",
    "    \n",
    "    final_loss = mse_loss(y, predictions)\n",
    "    return W, b, final_loss\n",
    "\n",
    "print(\"Original Data\")\n",
    "W, b, final_loss = train_model(X_train, y_train)\n",
    "print(f\"Final MSE Loss: {final_loss}\")"
   ],
   "id": "3acd44f59c21d071",
   "outputs": [
    {
     "name": "stdout",
     "output_type": "stream",
     "text": [
      "Original Data\n",
      "Iteration 0: MSE Loss = 29651.462915853674\n",
      "Iteration 100: MSE Loss = 3511.4664344437747\n",
      "Iteration 200: MSE Loss = 3133.2799575576055\n",
      "Iteration 300: MSE Loss = 3002.288243989295\n",
      "Iteration 400: MSE Loss = 2946.9773056685626\n",
      "Iteration 500: MSE Loss = 2922.1706296859543\n",
      "Iteration 600: MSE Loss = 2910.478426425421\n",
      "Iteration 700: MSE Loss = 2904.666535579007\n",
      "Iteration 800: MSE Loss = 2901.602779486159\n",
      "Iteration 900: MSE Loss = 2899.8784786503415\n",
      "Iteration 1000: MSE Loss = 2898.8347095675776\n",
      "Iteration 1100: MSE Loss = 2898.150646382126\n",
      "Iteration 1200: MSE Loss = 2897.6637597144854\n",
      "Iteration 1300: MSE Loss = 2897.288548205081\n",
      "Iteration 1400: MSE Loss = 2896.9784617731607\n",
      "Iteration 1500: MSE Loss = 2896.707386563439\n",
      "Iteration 1600: MSE Loss = 2896.460299694772\n",
      "Iteration 1700: MSE Loss = 2896.2283790738365\n",
      "Iteration 1800: MSE Loss = 2896.006357508345\n",
      "Iteration 1900: MSE Loss = 2895.791048088683\n",
      "Iteration 2000: MSE Loss = 2895.5805013645436\n",
      "Iteration 2100: MSE Loss = 2895.37351353282\n",
      "Iteration 2200: MSE Loss = 2895.1693346430616\n",
      "Iteration 2300: MSE Loss = 2894.967493195151\n",
      "Iteration 2400: MSE Loss = 2894.7676896201897\n",
      "Iteration 2500: MSE Loss = 2894.5697310749492\n",
      "Iteration 2600: MSE Loss = 2894.3734912740606\n",
      "Iteration 2700: MSE Loss = 2894.178885619866\n",
      "Iteration 2800: MSE Loss = 2893.985855738691\n",
      "Iteration 2900: MSE Loss = 2893.794359830658\n",
      "Iteration 3000: MSE Loss = 2893.6043666274904\n",
      "Iteration 3100: MSE Loss = 2893.415851597472\n",
      "Iteration 3200: MSE Loss = 2893.2287945543308\n",
      "Iteration 3300: MSE Loss = 2893.0431781457705\n",
      "Iteration 3400: MSE Loss = 2892.858986894609\n",
      "Iteration 3500: MSE Loss = 2892.6762065880534\n",
      "Iteration 3600: MSE Loss = 2892.4948238868537\n",
      "Iteration 3700: MSE Loss = 2892.314826073753\n",
      "Iteration 3800: MSE Loss = 2892.1362008904316\n",
      "Iteration 3900: MSE Loss = 2891.9589364308827\n",
      "Iteration 4000: MSE Loss = 2891.783021070875\n",
      "Iteration 4100: MSE Loss = 2891.6084434206296\n",
      "Iteration 4200: MSE Loss = 2891.4351922924698\n",
      "Iteration 4300: MSE Loss = 2891.263256678205\n",
      "Iteration 4400: MSE Loss = 2891.0926257328892\n",
      "Iteration 4500: MSE Loss = 2890.923288762779\n",
      "Iteration 4600: MSE Loss = 2890.755235216103\n",
      "Iteration 4700: MSE Loss = 2890.5884546757234\n",
      "Iteration 4800: MSE Loss = 2890.4229368531223\n",
      "Iteration 4900: MSE Loss = 2890.258671583292\n",
      "Final MSE Loss: 2890.0972729302243\n"
     ]
    }
   ],
   "execution_count": 38
  },
  {
   "metadata": {},
   "cell_type": "markdown",
   "source": [
    "(10) test 데이터에 대한 성능 확인하기\n",
    "- test 데이터에 대한 성능을 확인해주세요.\n"
   ],
   "id": "c0ce5cd015a4c3d1"
  },
  {
   "metadata": {
    "ExecuteTime": {
     "end_time": "2024-05-22T07:52:42.919672Z",
     "start_time": "2024-05-22T07:52:42.916851Z"
    }
   },
   "cell_type": "code",
   "source": [
    "# 테스트 세트에 대한 예측 수행\n",
    "predictions = model(X_test, W, b)\n",
    "\n",
    "# 테스트 세트에 대한 손실 계산\n",
    "test_loss = mse_loss(y_test, predictions)\n",
    "print(f\"Test MSE Loss: {test_loss}\")\n"
   ],
   "id": "efc30a08eab457bb",
   "outputs": [
    {
     "name": "stdout",
     "output_type": "stream",
     "text": [
      "Test MSE Loss: 2885.782047821924\n"
     ]
    }
   ],
   "execution_count": 39
  },
  {
   "metadata": {},
   "cell_type": "markdown",
   "source": [
    "(11) 정답 데이터와 예측한 데이터 시각화하기\n",
    "- x축에는 X 데이터의 첫 번째 컬럼을, y축에는 정답인 target 데이터를 넣어서 모델이 예측한 데이터를 시각화해 주세요."
   ],
   "id": "922195994e558152"
  },
  {
   "metadata": {
    "ExecuteTime": {
     "end_time": "2024-05-22T07:54:24.029893Z",
     "start_time": "2024-05-22T07:54:23.317900Z"
    }
   },
   "cell_type": "code",
   "source": [
    "import matplotlib.pyplot as plt\n",
    "\n",
    "# 시각화\n",
    "plt.figure(figsize=(10, 6))\n",
    "plt.scatter(X_test[:, 0], y_test, color='blue', label='Actual')\n",
    "plt.scatter(X_test[:, 0], predictions, color='red', label='Predicted')\n",
    "plt.xlabel('First Feature (X[:, 0])')\n",
    "plt.ylabel('Target')\n",
    "plt.title('Actual vs Predicted values')\n",
    "plt.legend()\n",
    "plt.show()"
   ],
   "id": "47a05c9c23f650b1",
   "outputs": [
    {
     "data": {
      "text/plain": [
       "<Figure size 1000x600 with 1 Axes>"
      ],
      "image/png": "[encoded data removed]"
     },
     "metadata": {},
     "output_type": "display_data"
    }
   ],
   "execution_count": 40
  },
  {
   "metadata": {},
   "cell_type": "code",
   "outputs": [],
   "execution_count": null,
   "source": "",
   "id": "b6b884137897e59b"
  }
 ],
 "metadata": {
  "kernelspec": {
   "display_name": "Python 3",
   "language": "python",
   "name": "python3"
  },
  "language_info": {
   "codemirror_mode": {
    "name": "ipython",
    "version": 2
   },
   "file_extension": ".py",
   "mimetype": "text/x-python",
   "name": "python",
   "nbconvert_exporter": "python",
   "pygments_lexer": "ipython2",
   "version": "2.7.6"
  }
 },
 "nbformat": 4,
 "nbformat_minor": 5
}
